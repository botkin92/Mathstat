{
  "nbformat": 4,
  "nbformat_minor": 0,
  "metadata": {
    "colab": {
      "name": "Mathstat_8.ipynb",
      "provenance": [],
      "collapsed_sections": [],
      "authorship_tag": "ABX9TyMcK/7cN5dF4KLuRyOXYamB",
      "include_colab_link": true
    },
    "kernelspec": {
      "name": "python3",
      "display_name": "Python 3"
    },
    "language_info": {
      "name": "python"
    }
  },
  "cells": [
    {
      "cell_type": "markdown",
      "metadata": {
        "id": "view-in-github",
        "colab_type": "text"
      },
      "source": [
        "<a href=\"https://colab.research.google.com/github/botkin92/Mathstat/blob/lesson_8/Mathstat_8.ipynb\" target=\"_parent\"><img src=\"https://colab.research.google.com/assets/colab-badge.svg\" alt=\"Open In Colab\"/></a>"
      ]
    },
    {
      "cell_type": "code",
      "metadata": {
        "id": "RbaKuQGFjaFZ"
      },
      "source": [
        "import numpy as np\n",
        "from scipy import stats"
      ],
      "execution_count": 1,
      "outputs": []
    },
    {
      "cell_type": "markdown",
      "metadata": {
        "id": "1v8FQBGhkTN_"
      },
      "source": [
        "### **Задача 1**\n",
        "\n",
        "Провести дисперсионный анализ для определения того, есть ли различия среднего роста среди взрослых футболистов, хоккеистов и штангистов. Даны значения роста в трех группах случайно выбранных спортсменов:\n",
        "\n",
        "football_players = [173, 175, 180, 178, 177, 185, 183, 182]\n",
        "hockey_players = [177, 179, 180, 188, 177, 172, 171, 184, 180]\n",
        "lifters = [172, 173, 169, 177, 166, 180, 178, 177, 172, 166, 170]"
      ]
    },
    {
      "cell_type": "markdown",
      "metadata": {
        "id": "qjqLopCJqvuz"
      },
      "source": [
        "Пусть гипотеза H0 - равенство среднего роста по каждой группе. Для проверки этой гипотезы воспользуемся однофакторным дисперсионным анализом."
      ]
    },
    {
      "cell_type": "code",
      "metadata": {
        "id": "1kQmGVmMkZOv"
      },
      "source": [
        "y1 = np.array([173, 175, 180, 178, 177, 185, 183, 182]) # football_players\n",
        "y2 =  np.array([177, 179, 180, 188, 177, 172, 171, 184, 180]) # hockey_players\n",
        "y3 =  np.array([172, 173, 169, 177, 166, 180, 178, 177, 172, 166, 170]) # lifters\n",
        "\n",
        "n1 = y1.shape[0]\n",
        "n2 = y2.shape[0]\n",
        "n3 = y3.shape[0]"
      ],
      "execution_count": 2,
      "outputs": []
    },
    {
      "cell_type": "markdown",
      "metadata": {
        "id": "zybEsGyaqqf2"
      },
      "source": [
        "Выборочные средние по каждой группе:"
      ]
    },
    {
      "cell_type": "code",
      "metadata": {
        "colab": {
          "base_uri": "https://localhost:8080/"
        },
        "id": "6nD3sfMAo9xd",
        "outputId": "f49363bb-5fc5-474d-ad67-e7fee118683c"
      },
      "source": [
        "y1_mean = y1.mean()\n",
        "y2_mean = y2.mean()\n",
        "y3_mean = y3.mean()\n",
        "\n",
        "y1_mean, y2_mean, y3_mean"
      ],
      "execution_count": 3,
      "outputs": [
        {
          "output_type": "execute_result",
          "data": {
            "text/plain": [
              "(179.125, 178.66666666666666, 172.72727272727272)"
            ]
          },
          "metadata": {},
          "execution_count": 3
        }
      ]
    },
    {
      "cell_type": "markdown",
      "metadata": {
        "id": "xR3djDgbrZ5s"
      },
      "source": [
        "Видно, что значения среднего роста по группам близки. Проверим статистическую значимость."
      ]
    },
    {
      "cell_type": "code",
      "metadata": {
        "colab": {
          "base_uri": "https://localhost:8080/"
        },
        "id": "OUXasMpirzio",
        "outputId": "9ff9c54d-a954-4db8-c72a-620deec9f833"
      },
      "source": [
        "y = np.concatenate([y1, y2, y3])\n",
        "\n",
        "print(y)"
      ],
      "execution_count": 4,
      "outputs": [
        {
          "output_type": "stream",
          "name": "stdout",
          "text": [
            "[173 175 180 178 177 185 183 182 177 179 180 188 177 172 171 184 180 172\n",
            " 173 169 177 166 180 178 177 172 166 170]\n"
          ]
        }
      ]
    },
    {
      "cell_type": "code",
      "metadata": {
        "colab": {
          "base_uri": "https://localhost:8080/"
        },
        "id": "hXaTmuTMr2JC",
        "outputId": "10a60686-544f-482a-8089-b8055b28a6dc"
      },
      "source": [
        "y_mean = y.mean()\n",
        "y_mean"
      ],
      "execution_count": 5,
      "outputs": [
        {
          "output_type": "execute_result",
          "data": {
            "text/plain": [
              "176.46428571428572"
            ]
          },
          "metadata": {},
          "execution_count": 5
        }
      ]
    },
    {
      "cell_type": "markdown",
      "metadata": {
        "id": "KrtNafn7shCk"
      },
      "source": [
        "Найдём значения  𝑆𝑏  и  𝑆𝑤 :"
      ]
    },
    {
      "cell_type": "code",
      "metadata": {
        "colab": {
          "base_uri": "https://localhost:8080/"
        },
        "id": "LV5QL3ZBr2bw",
        "outputId": "682a8c91-6930-4527-b762-d120cdebc4c0"
      },
      "source": [
        "S2_b = n1 * (y1_mean - y_mean) ** 2 + n2 * (y2_mean - y_mean) ** 2 + n3 * (y3_mean - y_mean) ** 2\n",
        "\n",
        "S2_w = ((y1 - y1_mean) ** 2).sum() + ((y2 - y2_mean) ** 2).sum() + ((y3 - y3_mean) ** 2).sum()\n",
        "\n",
        "S2_b, S2_w"
      ],
      "execution_count": 6,
      "outputs": [
        {
          "output_type": "execute_result",
          "data": {
            "text/plain": [
              "(253.9074675324678, 577.0568181818182)"
            ]
          },
          "metadata": {},
          "execution_count": 6
        }
      ]
    },
    {
      "cell_type": "markdown",
      "metadata": {
        "id": "wmBMABcttDAL"
      },
      "source": [
        "Проверим выполнение равенства  𝑆2=𝑆2𝑏+𝑆2𝑤:"
      ]
    },
    {
      "cell_type": "code",
      "metadata": {
        "colab": {
          "base_uri": "https://localhost:8080/"
        },
        "id": "v8fXulUZtDpq",
        "outputId": "f9c99c18-5211-47f4-8ec1-f714a6a94ffa"
      },
      "source": [
        "round(S2_b + S2_w, 2) == round(((y - y_mean) ** 2).sum(), 2)"
      ],
      "execution_count": 7,
      "outputs": [
        {
          "output_type": "execute_result",
          "data": {
            "text/plain": [
              "True"
            ]
          },
          "metadata": {},
          "execution_count": 7
        }
      ]
    },
    {
      "cell_type": "markdown",
      "metadata": {
        "id": "ufcN-oHIu3e_"
      },
      "source": [
        "Оценка дисперсии:"
      ]
    },
    {
      "cell_type": "code",
      "metadata": {
        "colab": {
          "base_uri": "https://localhost:8080/"
        },
        "id": "kqHYrWS8u3pT",
        "outputId": "3d369ed9-69b4-4cb8-9bd0-5db3806e4c0d"
      },
      "source": [
        "k = 3\n",
        "n = n1 + n2 + n3\n",
        "\n",
        "k1 = k - 1\n",
        "k2 = n - k\n",
        "\n",
        "sigma2_b = S2_b / k1\n",
        "sigma2_w = S2_w / k2\n",
        "\n",
        "sigma2_b, sigma2_w"
      ],
      "execution_count": 8,
      "outputs": [
        {
          "output_type": "execute_result",
          "data": {
            "text/plain": [
              "(126.9537337662339, 23.08227272727273)"
            ]
          },
          "metadata": {},
          "execution_count": 8
        }
      ]
    },
    {
      "cell_type": "markdown",
      "metadata": {
        "id": "K6SDSxzvu_gK"
      },
      "source": [
        "Т статистика:"
      ]
    },
    {
      "cell_type": "code",
      "metadata": {
        "colab": {
          "base_uri": "https://localhost:8080/"
        },
        "id": "DyPD95WvvBP4",
        "outputId": "27f28fe0-e130-4230-8687-c0e75525d398"
      },
      "source": [
        "T = sigma2_b / sigma2_w\n",
        "T"
      ],
      "execution_count": 9,
      "outputs": [
        {
          "output_type": "execute_result",
          "data": {
            "text/plain": [
              "5.500053450812598"
            ]
          },
          "metadata": {},
          "execution_count": 9
        }
      ]
    },
    {
      "cell_type": "markdown",
      "metadata": {
        "id": "sQ-rGkKgvL5Q"
      },
      "source": [
        "Критическое значение $F_{crit}$:"
      ]
    },
    {
      "cell_type": "code",
      "metadata": {
        "colab": {
          "base_uri": "https://localhost:8080/"
        },
        "id": "ZHwPuPyEvNgg",
        "outputId": "503d9a19-c084-43a1-910f-ac3b982a91e8"
      },
      "source": [
        "alpha = 0.05\n",
        "\n",
        "F_crit = stats.f.ppf(1 - alpha, k1, k2)\n",
        "F_crit"
      ],
      "execution_count": 10,
      "outputs": [
        {
          "output_type": "execute_result",
          "data": {
            "text/plain": [
              "3.3851899614491687"
            ]
          },
          "metadata": {},
          "execution_count": 10
        }
      ]
    },
    {
      "cell_type": "code",
      "metadata": {
        "colab": {
          "base_uri": "https://localhost:8080/"
        },
        "id": "Md-0kGmvvSPL",
        "outputId": "1fc5b4ce-2515-44cf-97f1-490a94ec3b00"
      },
      "source": [
        "p = 1 - stats.f.cdf(T, k1, k2)\n",
        "p"
      ],
      "execution_count": 11,
      "outputs": [
        {
          "output_type": "execute_result",
          "data": {
            "text/plain": [
              "0.010482206918698611"
            ]
          },
          "metadata": {},
          "execution_count": 11
        }
      ]
    },
    {
      "cell_type": "markdown",
      "metadata": {
        "id": "YaKKCTjmvceZ"
      },
      "source": [
        "𝑇>𝐹𝑐𝑟𝑖𝑡, значит гипотеза H0 отвергается. Т.е. отличие среднего роста среди взрослых футболистов, хоккеистов и штангистов является статистически значимым."
      ]
    }
  ]
}