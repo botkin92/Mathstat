{
  "nbformat": 4,
  "nbformat_minor": 0,
  "metadata": {
    "colab": {
      "name": "Mathstat_7.ipynb",
      "provenance": [],
      "collapsed_sections": [],
      "authorship_tag": "ABX9TyMFWx2KZVethh7iveu2dJUR",
      "include_colab_link": true
    },
    "kernelspec": {
      "name": "python3",
      "display_name": "Python 3"
    },
    "language_info": {
      "name": "python"
    }
  },
  "cells": [
    {
      "cell_type": "markdown",
      "metadata": {
        "id": "view-in-github",
        "colab_type": "text"
      },
      "source": [
        "<a href=\"https://colab.research.google.com/github/botkin92/Mathstat/blob/lesson_7/Mathstat_7.ipynb\" target=\"_parent\"><img src=\"https://colab.research.google.com/assets/colab-badge.svg\" alt=\"Open In Colab\"/></a>"
      ]
    },
    {
      "cell_type": "code",
      "metadata": {
        "id": "utVEfBdfy3Z3"
      },
      "source": [
        "import numpy as np\n",
        "import pandas as pd\n",
        "from scipy import stats\n",
        "from matplotlib import pyplot as plt\n",
        "\n",
        "plt.style.use('seaborn-whitegrid')"
      ],
      "execution_count": 1,
      "outputs": []
    },
    {
      "cell_type": "markdown",
      "metadata": {
        "id": "fJIWQ53KzgIv"
      },
      "source": [
        "### **Задача 1**\n",
        "\n",
        "Дана матрица объект-признак\n",
        "\n",
        "X = [[ 1.22401313, 2.30868478, 3.03636353, 2.69287214],\n",
        "[-0.18757272, 1.30337355, 5.12093014, 3.46363202],\n",
        "[-0.81094525, 1.82463398, 5.79686488, 1.86159445],\n",
        "[ 0.75129018, 2.67392052, 3.65529809, 1.66746094],\n",
        "[ 0.00972362, 1.97367255, 2.50594319, 1.69755173],\n",
        "[-0.62972637, 0.77750764, 2.84124027, 4.54410559],\n",
        "[ 2.29536229, 1.81206697, 1.95026215, 1.51874636],\n",
        "[ 0.0920418 , 2.26971361, 7.47708735, 2.61081203],\n",
        "[ 2.39252799, 3.17563985, 3.61420599, 5.10773362],\n",
        "[ 0.54983815, 2.87988651, 1.65752765, 1.59635987]]\n",
        "\n",
        "и значения целевой переменной\n",
        "\n",
        "y = [ 9.26193358, 9.700363 , 8.67214805, 8.74796974, 6.18689108,\n",
        "7.53312713, 7.57643777, 12.44965478, 14.29010746, 6.68361218]\n",
        "\n",
        "1. Подберите два признака (из четырёх) так, чтобы уровень линейной зависимости целевой переменной от значений этих признаков был максимальным. Другими словами, модель линейной регрессии на этих признаках должна давать наилучший результат.\n",
        "2. Является ли значимым получившееся уравнение регрессии?"
      ]
    },
    {
      "cell_type": "code",
      "metadata": {
        "id": "Ah-0tN5_zlvS"
      },
      "source": [
        "X = np.array([[ 1.22401313, 2.30868478, 3.03636353, 2.69287214], [-0.18757272, 1.30337355, 5.12093014, 3.46363202], [-0.81094525, 1.82463398, 5.79686488, 1.86159445], [ 0.75129018, 2.67392052, 3.65529809, 1.66746094], [ 0.00972362, 1.97367255, 2.50594319, 1.69755173], [-0.62972637, 0.77750764, 2.84124027, 4.54410559], [ 2.29536229, 1.81206697, 1.95026215, 1.51874636], [ 0.0920418 , 2.26971361, 7.47708735, 2.61081203], [ 2.39252799, 3.17563985, 3.61420599, 5.10773362], [ 0.54983815, 2.87988651, 1.65752765, 1.59635987]])"
      ],
      "execution_count": 2,
      "outputs": []
    },
    {
      "cell_type": "code",
      "metadata": {
        "colab": {
          "base_uri": "https://localhost:8080/"
        },
        "id": "igWbh9QQeXBe",
        "outputId": "b7fe2174-19a1-412a-bc76-380858958cc4"
      },
      "source": [
        "X.shape"
      ],
      "execution_count": 3,
      "outputs": [
        {
          "output_type": "execute_result",
          "data": {
            "text/plain": [
              "(10, 4)"
            ]
          },
          "metadata": {},
          "execution_count": 3
        }
      ]
    },
    {
      "cell_type": "code",
      "metadata": {
        "id": "-3hZ1jBv2sKX"
      },
      "source": [
        "y = np.array([9.26193358, 9.700363 , 8.67214805, 8.74796974, 6.18689108, 7.53312713, 7.57643777, 12.44965478, 14.29010746, 6.68361218])"
      ],
      "execution_count": 4,
      "outputs": []
    },
    {
      "cell_type": "code",
      "metadata": {
        "id": "EwkQQcoWxsPf"
      },
      "source": [
        "dataset = pd.DataFrame(X)"
      ],
      "execution_count": 5,
      "outputs": []
    },
    {
      "cell_type": "code",
      "metadata": {
        "id": "DBomyfAMi8Zm"
      },
      "source": [
        "def my_linear_model(X, ind1, ind2, trg):\n",
        "  new_X = X[[ind1, ind2]].values\n",
        "  # Добавление единичного столбца\n",
        "  ones = np.ones((X.shape[0], 1))\n",
        "  new_X = np.hstack((ones, new_X))\n",
        "  # Поиск коэф. b методом наименьших квадратов\n",
        "  XTX = new_X.T.dot(new_X)\n",
        "  XTX_inv = np.linalg.inv(XTX)\n",
        "  b = XTX_inv.dot(new_X.T).dot(trg)\n",
        "  # Расчет коэффициента детерминации\n",
        "  z = new_X.dot(b)\n",
        "  sum_of_squares = ((trg - trg.mean()) ** 2).sum()\n",
        "  R2 = 1 - ((trg - z)**2).sum() / sum_of_squares\n",
        "\n",
        "  return print(f'Определитель матрицы XTX: {np.linalg.det(XTX)}\\nКоэффициенты b: {b}\\nКоэффициент детерминации R2: {R2}')"
      ],
      "execution_count": 6,
      "outputs": []
    },
    {
      "cell_type": "code",
      "metadata": {
        "colab": {
          "base_uri": "https://localhost:8080/"
        },
        "id": "Ec12HO9HgrAD",
        "outputId": "20c9c841-5f2a-488b-f77b-6277f87e9387"
      },
      "source": [
        "my_linear_model(dataset, 0, 1, y)"
      ],
      "execution_count": 7,
      "outputs": [
        {
          "output_type": "stream",
          "name": "stdout",
          "text": [
            "Определитель матрицы XTX: 349.7782033818847\n",
            "Коэффициенты b: [6.70781579 0.40786841 1.03360247]\n",
            "Коэффициент детерминации R2: 0.18113594742585215\n"
          ]
        }
      ]
    },
    {
      "cell_type": "code",
      "metadata": {
        "colab": {
          "base_uri": "https://localhost:8080/"
        },
        "id": "DCv16MPJTlO0",
        "outputId": "467ea954-1aaf-4dc0-ec23-4fc5a92b1573"
      },
      "source": [
        "my_linear_model(dataset, 0, 2, y)"
      ],
      "execution_count": 8,
      "outputs": [
        {
          "output_type": "stream",
          "name": "stdout",
          "text": [
            "Определитель матрицы XTX: 2835.3600226240965\n",
            "Коэффициенты b: [3.62455695 1.62531203 1.21134979]\n",
            "Коэффициент детерминации R2: 0.7634246238793151\n"
          ]
        }
      ]
    },
    {
      "cell_type": "code",
      "metadata": {
        "colab": {
          "base_uri": "https://localhost:8080/"
        },
        "id": "eheoMM40Tmhg",
        "outputId": "376f9fc1-d3d3-4cd7-e3dd-6dcf6ab7134a"
      },
      "source": [
        "my_linear_model(dataset, 0, 3, y)"
      ],
      "execution_count": 9,
      "outputs": [
        {
          "output_type": "stream",
          "name": "stdout",
          "text": [
            "Определитель матрицы XTX: 1689.2124743606082\n",
            "Коэффициенты b: [5.70686123 0.68359949 1.12650707]\n",
            "Коэффициент детерминации R2: 0.4532966783144079\n"
          ]
        }
      ]
    },
    {
      "cell_type": "code",
      "metadata": {
        "colab": {
          "base_uri": "https://localhost:8080/"
        },
        "id": "7ronM1-YTrGi",
        "outputId": "caf2429d-4d73-4198-983a-180369f4d33b"
      },
      "source": [
        "my_linear_model(dataset, 1, 2, y)"
      ],
      "execution_count": 10,
      "outputs": [
        {
          "output_type": "stream",
          "name": "stdout",
          "text": [
            "Определитель матрицы XTX: 1427.8125776081495\n",
            "Коэффициенты b: [2.48896193 1.60611956 0.86269915]\n",
            "Коэффициент детерминации R2: 0.547948273403901\n"
          ]
        }
      ]
    },
    {
      "cell_type": "code",
      "metadata": {
        "colab": {
          "base_uri": "https://localhost:8080/"
        },
        "id": "0934d8idT8Wk",
        "outputId": "ca32cf32-91b6-48a9-d4eb-d2e27243e65b"
      },
      "source": [
        "my_linear_model(dataset, 1, 3, y)"
      ],
      "execution_count": 11,
      "outputs": [
        {
          "output_type": "stream",
          "name": "stdout",
          "text": [
            "Определитель матрицы XTX: 701.732736445317\n",
            "Коэффициенты b: [1.91685221 1.74373667 1.31971882]\n",
            "Коэффициент детерминации R2: 0.6062055761129932\n"
          ]
        }
      ]
    },
    {
      "cell_type": "code",
      "metadata": {
        "colab": {
          "base_uri": "https://localhost:8080/"
        },
        "id": "RnfSnQPhT_q-",
        "outputId": "ef0e05c4-f97a-4759-e8c3-3d4d92364bdc"
      },
      "source": [
        "my_linear_model(dataset, 2, 3, y)"
      ],
      "execution_count": 12,
      "outputs": [
        {
          "output_type": "stream",
          "name": "stdout",
          "text": [
            "Определитель матрицы XTX: 4547.328074863321\n",
            "Коэффициенты b: [3.64001086 0.70753914 1.04851745]\n",
            "Коэффициент детерминации R2: 0.6224419876505324\n"
          ]
        }
      ]
    },
    {
      "cell_type": "markdown",
      "metadata": {
        "id": "sCMJZr7vUkpr"
      },
      "source": [
        "Модель с первым и третьим признаками дают наилучший результат (R2 - 0.76)"
      ]
    },
    {
      "cell_type": "markdown",
      "metadata": {
        "id": "hKg12LhLZbwE"
      },
      "source": [
        "Проверка статистического уровня значимости:"
      ]
    },
    {
      "cell_type": "code",
      "metadata": {
        "colab": {
          "base_uri": "https://localhost:8080/"
        },
        "id": "ndvc4A4CYflO",
        "outputId": "2954506d-57e2-403c-dd18-ce2a70d58046"
      },
      "source": [
        "n = X.shape[0]\n",
        "m = 2\n",
        "\n",
        "k1 = m\n",
        "k2 = n - m - 1\n",
        "\n",
        "k1, k2"
      ],
      "execution_count": 13,
      "outputs": [
        {
          "output_type": "execute_result",
          "data": {
            "text/plain": [
              "(2, 7)"
            ]
          },
          "metadata": {},
          "execution_count": 13
        }
      ]
    },
    {
      "cell_type": "code",
      "metadata": {
        "colab": {
          "base_uri": "https://localhost:8080/"
        },
        "id": "5VwWvx7QYgQQ",
        "outputId": "b57bc4d4-ce6f-4e09-d90b-1aecaf0a4343"
      },
      "source": [
        "alpha = 0.05\n",
        "\n",
        "t = stats.f.ppf(1 - alpha, k1, k2)\n",
        "t"
      ],
      "execution_count": 14,
      "outputs": [
        {
          "output_type": "execute_result",
          "data": {
            "text/plain": [
              "4.73741412777588"
            ]
          },
          "metadata": {},
          "execution_count": 14
        }
      ]
    },
    {
      "cell_type": "markdown",
      "metadata": {
        "id": "JSlKDDfrZOly"
      },
      "source": [
        "Критическая область:\n",
        "$$\\Omega_\\alpha = \\left( 4.96, \\infty \\right)$$"
      ]
    },
    {
      "cell_type": "code",
      "metadata": {
        "colab": {
          "base_uri": "https://localhost:8080/"
        },
        "id": "WMEfAwsdY-Ct",
        "outputId": "eae83b63-4113-454e-d636-20e42e7481fa"
      },
      "source": [
        "F = (0.7634 / k1) / ((1 - 0.7634) / k2)\n",
        "F"
      ],
      "execution_count": 15,
      "outputs": [
        {
          "output_type": "execute_result",
          "data": {
            "text/plain": [
              "11.292899408284022"
            ]
          },
          "metadata": {},
          "execution_count": 15
        }
      ]
    },
    {
      "cell_type": "markdown",
      "metadata": {
        "id": "RBVawMgLxv71"
      },
      "source": [
        "Статистика попала в критическую область, уравнение регрессии признаётся значимым."
      ]
    },
    {
      "cell_type": "markdown",
      "metadata": {
        "id": "AiDZxHQJzhyT"
      },
      "source": [
        "### **Задача 2**\n",
        "\n",
        "Даны значения величины заработной платы заемщиков банка (salary) и значения их поведенческого кредитного скоринга (scoring):\n",
        "\n",
        "salary = [35, 45, 190, 200, 40, 70, 54, 150, 120, 110]\n",
        "scoring = [401, 574, 874, 919, 459, 739, 653, 902, 746, 832]\n",
        "\n",
        "Возьмём в качестве признака значение salary, а в качестве целевой переменной - scoring.\n",
        "\n",
        "Найдите коэффициенты линейной регрессии с помощью формул для парной регрессии, а затем с помощью метода наименьших квадратов.\n",
        "Постройте scatter plot по данным и отметьте на нём прямую линейной регрессии, полученную в п. 1.\n",
        "Посчитайте коэффициент детерминации.\n",
        "Оцените построенное уравнение регрессии с помощью F-критерия Фишера.\n",
        "(доп) Посчитать среднюю ошибку аппроксимации"
      ]
    },
    {
      "cell_type": "code",
      "metadata": {
        "id": "oaJ9MsuJa5n4"
      },
      "source": [
        "salary = np.array([35, 45, 190, 200, 40, 70, 54, 150, 120, 110])\n",
        "scoring = np.array([401, 574, 874, 919, 459, 739, 653, 902, 746, 832])"
      ],
      "execution_count": 16,
      "outputs": []
    },
    {
      "cell_type": "markdown",
      "metadata": {
        "id": "wVQRU3-ocVYH"
      },
      "source": [
        "Коэффициенты линейной регрессии с помощью формул для парной регрессии:"
      ]
    },
    {
      "cell_type": "code",
      "metadata": {
        "colab": {
          "base_uri": "https://localhost:8080/"
        },
        "id": "xeKdpt4gbOIz",
        "outputId": "a42ba6ff-b0b2-4d83-b616-a97b24b459e6"
      },
      "source": [
        "b1 = (np.mean(salary * scoring) - np.mean(salary) * np.mean(scoring)) / (np.mean(salary ** 2) - np.mean(salary) ** 2)\n",
        "b0 = np.mean(scoring) - b1 * np.mean(salary)\n",
        "\n",
        "b0, b1"
      ],
      "execution_count": 17,
      "outputs": [
        {
          "output_type": "execute_result",
          "data": {
            "text/plain": [
              "(444.1773573243596, 2.620538882402765)"
            ]
          },
          "metadata": {},
          "execution_count": 17
        }
      ]
    },
    {
      "cell_type": "markdown",
      "metadata": {
        "id": "wYwiEKzCcstm"
      },
      "source": [
        "Коэффициенты линейной регрессии с помощью метода наименьших квадратов:"
      ]
    },
    {
      "cell_type": "code",
      "metadata": {
        "id": "Xb3PBWuxfb4s"
      },
      "source": [
        "ones = np.ones((10))\n",
        "X = np.column_stack((ones, salary))"
      ],
      "execution_count": 18,
      "outputs": []
    },
    {
      "cell_type": "code",
      "metadata": {
        "colab": {
          "base_uri": "https://localhost:8080/"
        },
        "id": "pnYEfliaxnOt",
        "outputId": "fe6be1ab-a14b-4c97-9554-b80bf5f77416"
      },
      "source": [
        "XTX = X.T.dot(X)\n",
        "np.linalg.det(XTX)"
      ],
      "execution_count": 19,
      "outputs": [
        {
          "output_type": "execute_result",
          "data": {
            "text/plain": [
              "349464.00000000023"
            ]
          },
          "metadata": {},
          "execution_count": 19
        }
      ]
    },
    {
      "cell_type": "code",
      "metadata": {
        "colab": {
          "base_uri": "https://localhost:8080/"
        },
        "id": "6vfHsCE7yw77",
        "outputId": "43abedae-f3f6-4ae9-e57c-7a3b12942898"
      },
      "source": [
        "XTX_inv = np.linalg.inv(XTX)\n",
        "\n",
        "b = XTX_inv.dot(X.T).dot(scoring)\n",
        "print(b)"
      ],
      "execution_count": 20,
      "outputs": [
        {
          "output_type": "stream",
          "name": "stdout",
          "text": [
            "[444.17735732   2.62053888]\n"
          ]
        }
      ]
    },
    {
      "cell_type": "markdown",
      "metadata": {
        "id": "ngYKH03o1CE_"
      },
      "source": [
        "График:"
      ]
    },
    {
      "cell_type": "code",
      "metadata": {
        "colab": {
          "base_uri": "https://localhost:8080/",
          "height": 276
        },
        "id": "G_iDGJljzM9k",
        "outputId": "8f45c616-c88b-4f4a-87e6-96041fcddf25"
      },
      "source": [
        "ox = salary\n",
        "oy = b0 + b1 * ox\n",
        "\n",
        "plt.scatter(salary, scoring)\n",
        "plt.plot(ox, oy, color='red', alpha=0.5)\n",
        "\n",
        "plt.xlabel('salary')\n",
        "plt.ylabel('scoring');"
      ],
      "execution_count": 21,
      "outputs": [
        {
          "output_type": "display_data",
          "data": {
            "image/png": "[encoded data removed]",
            "text/plain": [
              "<Figure size 432x288 with 1 Axes>"
            ]
          },
          "metadata": {
            "needs_background": "light"
          }
        }
      ]
    },
    {
      "cell_type": "markdown",
      "metadata": {
        "id": "157T5Zri1FHo"
      },
      "source": [
        "Коэффициент детерминации R2:"
      ]
    },
    {
      "cell_type": "code",
      "metadata": {
        "colab": {
          "base_uri": "https://localhost:8080/"
        },
        "id": "N7LEYt4DzwvG",
        "outputId": "167e05a8-12f3-48cf-ab23-fec44b39378f"
      },
      "source": [
        "z = b0 + b1 * salary\n",
        "sum_of_squares = ((scoring - scoring.mean()) ** 2).sum()\n",
        "R2 = 1 - ((scoring - z)**2).sum() / sum_of_squares\n",
        "R2"
      ],
      "execution_count": 22,
      "outputs": [
        {
          "output_type": "execute_result",
          "data": {
            "text/plain": [
              "0.7876386635293686"
            ]
          },
          "metadata": {},
          "execution_count": 22
        }
      ]
    },
    {
      "cell_type": "markdown",
      "metadata": {
        "id": "vUfuz-TU1KzS"
      },
      "source": [
        "Проверка статистического уровня значимости:"
      ]
    },
    {
      "cell_type": "code",
      "metadata": {
        "colab": {
          "base_uri": "https://localhost:8080/"
        },
        "id": "X1tj_8MI04oV",
        "outputId": "8f352806-7382-48a9-9261-ea429c72ea2c"
      },
      "source": [
        "n = salary.shape[0]\n",
        "m = 1\n",
        "\n",
        "k1 = m\n",
        "k2 = n - m - 1\n",
        "\n",
        "k1, k2"
      ],
      "execution_count": 23,
      "outputs": [
        {
          "output_type": "execute_result",
          "data": {
            "text/plain": [
              "(1, 8)"
            ]
          },
          "metadata": {},
          "execution_count": 23
        }
      ]
    },
    {
      "cell_type": "code",
      "metadata": {
        "colab": {
          "base_uri": "https://localhost:8080/"
        },
        "id": "Rh_8sTUM1a2M",
        "outputId": "97da6d91-ae8f-41f0-94cf-58faed9072e1"
      },
      "source": [
        "alpha = 0.05\n",
        "\n",
        "t = stats.f.ppf(1 - alpha, k1, k2)\n",
        "t"
      ],
      "execution_count": 24,
      "outputs": [
        {
          "output_type": "execute_result",
          "data": {
            "text/plain": [
              "5.317655071578714"
            ]
          },
          "metadata": {},
          "execution_count": 24
        }
      ]
    },
    {
      "cell_type": "markdown",
      "metadata": {
        "id": "fvSY27591g_5"
      },
      "source": [
        "Критическая область:\n",
        "$$\\Omega_\\alpha = \\left( 5.32, \\infty \\right)$$"
      ]
    },
    {
      "cell_type": "code",
      "metadata": {
        "colab": {
          "base_uri": "https://localhost:8080/"
        },
        "id": "WxC4urOn1myS",
        "outputId": "e11d9cbe-2dfd-45e2-ac41-388c45091eab"
      },
      "source": [
        "F = (R2 / k1) / ((1 - R2) / k2)\n",
        "F"
      ],
      "execution_count": 25,
      "outputs": [
        {
          "output_type": "execute_result",
          "data": {
            "text/plain": [
              "29.67164085966451"
            ]
          },
          "metadata": {},
          "execution_count": 25
        }
      ]
    },
    {
      "cell_type": "markdown",
      "metadata": {
        "id": "V7eLf65410N8"
      },
      "source": [
        "Статистика попала в критическую область, уравнение регрессии признаётся значимым."
      ]
    }
  ]
}