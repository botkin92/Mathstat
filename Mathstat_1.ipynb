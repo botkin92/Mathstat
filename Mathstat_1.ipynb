{
  "nbformat": 4,
  "nbformat_minor": 0,
  "metadata": {
    "colab": {
      "name": "Mathstat_1.ipynb",
      "provenance": [],
      "collapsed_sections": [],
      "authorship_tag": "ABX9TyPVA2bNjGb3hadBE7DnE0ey",
      "include_colab_link": true
    },
    "kernelspec": {
      "name": "python3",
      "display_name": "Python 3"
    },
    "language_info": {
      "name": "python"
    }
  },
  "cells": [
    {
      "cell_type": "markdown",
      "metadata": {
        "id": "view-in-github",
        "colab_type": "text"
      },
      "source": [
        "<a href=\"https://colab.research.google.com/github/botkin92/Mathstat/blob/lesson_1/Mathstat_1.ipynb\" target=\"_parent\"><img src=\"https://colab.research.google.com/assets/colab-badge.svg\" alt=\"Open In Colab\"/></a>"
      ]
    },
    {
      "cell_type": "code",
      "metadata": {
        "id": "eWOUWCHZjU54"
      },
      "source": [
        "import numpy as np\n",
        "from math import factorial"
      ],
      "execution_count": null,
      "outputs": []
    },
    {
      "cell_type": "markdown",
      "metadata": {
        "id": "d6drlMvIjGRU"
      },
      "source": [
        "### **Задача 1**\n",
        "Группа студентов изучает 10 различных дисциплин. Сколькими способами можно составить расписание на понедельник, если в этот день должно быть 4 разных занятия?"
      ]
    },
    {
      "cell_type": "markdown",
      "metadata": {
        "id": "fxZ8egypj-Nf"
      },
      "source": [
        "Предположим, что важно не только дисциплина, но и их размещения относительно друг друга. Тогда найдем все возможные варианты расписания, по формуле:\n"
      ]
    },
    {
      "cell_type": "markdown",
      "metadata": {
        "id": "ITiiVKPWsFKF"
      },
      "source": [
        "$$A_n^k = \\frac{n!}{(n - k)!}$$"
      ]
    },
    {
      "cell_type": "markdown",
      "metadata": {
        "id": "VgAqtpGAk9d4"
      },
      "source": [
        "где n - все дисциплины (10), k - количество занятий в понедельник (4)"
      ]
    },
    {
      "cell_type": "code",
      "metadata": {
        "id": "UWhSscLJizAB"
      },
      "source": [
        "def arrangements(n, k):\n",
        "    return int(factorial(n) / factorial(n - k))"
      ],
      "execution_count": null,
      "outputs": []
    },
    {
      "cell_type": "code",
      "metadata": {
        "colab": {
          "base_uri": "https://localhost:8080/"
        },
        "id": "jfRuJGw7kmal",
        "outputId": "0ca63d1d-f8eb-4a5d-831a-f130bffdc7ab"
      },
      "source": [
        "arrangements(10, 4)"
      ],
      "execution_count": null,
      "outputs": [
        {
          "output_type": "execute_result",
          "data": {
            "text/plain": [
              "5040"
            ]
          },
          "metadata": {},
          "execution_count": 21
        }
      ]
    },
    {
      "cell_type": "markdown",
      "metadata": {
        "id": "pQjupTcsjGZQ"
      },
      "source": [
        "### **Задача 2**\n",
        "\n",
        "Из колоды в 52 карты вынимают случайным образом 4 карты. Найти число исходов, соответствующих тому, что был вытянут хотя бы один туз."
      ]
    },
    {
      "cell_type": "markdown",
      "metadata": {
        "id": "mnTaljgAkAEv"
      },
      "source": [
        "В данной задаче порядок появления карты не имеет значения. Т.е. необходимо найти все возможные сочетания, по формуле:  "
      ]
    },
    {
      "cell_type": "markdown",
      "metadata": {
        "id": "PW2lximGsFKC"
      },
      "source": [
        "$$C_n^k = \\frac{n!}{k!(n - k)!}$$"
      ]
    },
    {
      "cell_type": "markdown",
      "metadata": {
        "id": "Xml__H_un4wW"
      },
      "source": [
        "Всего в колоде 4 туза, тогда все возможные исходы будут складываться из сочетаний: 1 туз и 3 любые другие карты, 2 туза и 2 другие, 3 туза и 1 другая либо все 4 туза."
      ]
    },
    {
      "cell_type": "code",
      "metadata": {
        "id": "tL6UkIJ7ooda"
      },
      "source": [
        "def combinations(n, k):\n",
        "    return int(factorial(n) / (factorial(k) * factorial(n - k)))"
      ],
      "execution_count": null,
      "outputs": []
    },
    {
      "cell_type": "code",
      "metadata": {
        "id": "PqhMM3cUos-c"
      },
      "source": [
        "С_t1 = combinations(4, 1)\n",
        "C_oth3 = combinations(52-4, 3)\n",
        "\n",
        "С_t2 = combinations(4, 2)\n",
        "C_oth2 = combinations(52-4, 2)\n",
        "\n",
        "С_t3 = combinations(4, 3)\n",
        "C_oth1 = combinations(52-4, 1)\n",
        "\n",
        "C_oth4 = combinations(4, 4)"
      ],
      "execution_count": null,
      "outputs": []
    },
    {
      "cell_type": "markdown",
      "metadata": {
        "id": "xcLxjbzUr9IA"
      },
      "source": [
        "Остальные карты выбираются из 48 карт — тузы не рассматриваются, так как они уже учтены"
      ]
    },
    {
      "cell_type": "code",
      "metadata": {
        "id": "0Fl6RA12pcb6"
      },
      "source": [
        "С_total = С_t1 * C_oth3 + С_t2 * C_oth2 + С_t3 * C_oth1 + C_oth4"
      ],
      "execution_count": null,
      "outputs": []
    },
    {
      "cell_type": "code",
      "metadata": {
        "id": "-p2P4n8Ds0Bf",
        "colab": {
          "base_uri": "https://localhost:8080/"
        },
        "outputId": "535f8577-0196-4924-eeca-d721cbcf7c19"
      },
      "source": [
        "С_total"
      ],
      "execution_count": null,
      "outputs": [
        {
          "output_type": "execute_result",
          "data": {
            "text/plain": [
              "76145"
            ]
          },
          "metadata": {},
          "execution_count": 25
        }
      ]
    },
    {
      "cell_type": "markdown",
      "metadata": {
        "id": "maNoPWAlXswe"
      },
      "source": [
        "###**Задача 3**\n",
        "\n",
        "Семь человек рассаживаются наудачу на скамейке. Какова вероятность того, что два определённых человека будут сидеть рядом?"
      ]
    },
    {
      "cell_type": "markdown",
      "metadata": {
        "id": "AO_UihZhcSt8"
      },
      "source": [
        "Определим количество возможных вариантов при которых два человека могут сидеть вместе: методом перебора получается что таких вариантов возможно 6 и еще 6 если двух человек поменять местами. Итого 12."
      ]
    },
    {
      "cell_type": "markdown",
      "metadata": {
        "id": "_W0ZMxYRkD2O"
      },
      "source": [
        "Остальные 5 мест могут быть заволнены 5! способами (формула для перестановки)"
      ]
    },
    {
      "cell_type": "markdown",
      "metadata": {
        "id": "nIGfc1pNjQ69"
      },
      "source": [
        "Тогда требуемая вероятность будет находиться отношением исходом при котором два определённых человека будут сидеть рядом (12*5!) на общее количество исходов (7!)"
      ]
    },
    {
      "cell_type": "code",
      "metadata": {
        "id": "0BEFakDbjryy"
      },
      "source": [
        "P = 12*factorial(5)/factorial(7)"
      ],
      "execution_count": null,
      "outputs": []
    },
    {
      "cell_type": "code",
      "metadata": {
        "colab": {
          "base_uri": "https://localhost:8080/"
        },
        "id": "L7ozE1iDkJU1",
        "outputId": "bdf8a5b1-13cf-47c5-df24-0c82d42a72fa"
      },
      "source": [
        "P"
      ],
      "execution_count": null,
      "outputs": [
        {
          "output_type": "execute_result",
          "data": {
            "text/plain": [
              "0.2857142857142857"
            ]
          },
          "metadata": {},
          "execution_count": 29
        }
      ]
    },
    {
      "cell_type": "markdown",
      "metadata": {
        "id": "85ZODjs5kQKh"
      },
      "source": [
        "### **Задача 4**\n",
        "\n",
        "Из 60 вопросов, входящих в экзаменационные билеты, студент знает 50. Какова вероятность того, что среди трёх наугад выбранных вопросов студент знает: а) все? б) два?"
      ]
    },
    {
      "cell_type": "markdown",
      "metadata": {
        "id": "kAFhCxTNnzgG"
      },
      "source": [
        "а) Для нахождение вероятности нужно знать количество возможных исходов для трех билетов из всех возможных 60. А также количество исходов из трех билетов которые студент знает, т.е. из 50. При этом порядок не важен, используем формулу для сочетаний:"
      ]
    },
    {
      "cell_type": "code",
      "metadata": {
        "id": "CyZ-sDpNo5iy"
      },
      "source": [
        "Ca_n = combinations(60, 3)\n",
        "Ca_m = combinations(50, 3)\n",
        "\n",
        "Pa = Ca_m / Ca_n"
      ],
      "execution_count": null,
      "outputs": []
    },
    {
      "cell_type": "code",
      "metadata": {
        "colab": {
          "base_uri": "https://localhost:8080/"
        },
        "id": "raKHojoQpmST",
        "outputId": "3554fd36-9ad9-423f-9f36-bab0d65d948f"
      },
      "source": [
        "Pa"
      ],
      "execution_count": null,
      "outputs": [
        {
          "output_type": "execute_result",
          "data": {
            "text/plain": [
              "0.5727644652250146"
            ]
          },
          "metadata": {},
          "execution_count": 32
        }
      ]
    },
    {
      "cell_type": "markdown",
      "metadata": {
        "id": "Lxi6AySOpsAy"
      },
      "source": [
        "б) Количество исходов при которых студент знает 2 из 50 и не знает 1 из 10 (оставщиеся) можно найти произведением сочетаний:\n"
      ]
    },
    {
      "cell_type": "code",
      "metadata": {
        "id": "VVs4RQEpqPdT"
      },
      "source": [
        "Cb_n = Ca_n\n",
        "Cb_m1 = combinations(50, 2)\n",
        "Cb_m2 = combinations(10, 1)\n",
        "\n",
        "Pb = Cb_m1*Cb_m2 / Cb_n"
      ],
      "execution_count": null,
      "outputs": []
    },
    {
      "cell_type": "code",
      "metadata": {
        "colab": {
          "base_uri": "https://localhost:8080/"
        },
        "id": "7peaDRzIqm_I",
        "outputId": "e37a502f-2ab6-43b6-906b-b7444130076e"
      },
      "source": [
        "Pb"
      ],
      "execution_count": null,
      "outputs": [
        {
          "output_type": "execute_result",
          "data": {
            "text/plain": [
              "0.35797779076563413"
            ]
          },
          "metadata": {},
          "execution_count": 34
        }
      ]
    },
    {
      "cell_type": "markdown",
      "metadata": {
        "id": "oJ8V7AYfqzG3"
      },
      "source": [
        "### **Задача 5**\n",
        "\n",
        "Бросается игральная кость. Пусть событие A - появление чётного числа, событие B - появление числа больше трёх. Являются ли эти события независимыми?"
      ]
    },
    {
      "cell_type": "markdown",
      "metadata": {
        "id": "H3dUaGNlkYet"
      },
      "source": [
        "Условия независимости событий: P(A|B) = P(A)"
      ]
    },
    {
      "cell_type": "markdown",
      "metadata": {
        "id": "nZ6hhj4TsqEB"
      },
      "source": [
        "У игральной кости все чисел 6 из них 3 четные. Т.е. вероятность события A - 3/6. Вероятность совместного события будет определяться из возможных четных чисел больше 3, т.е. 2/3 "
      ]
    },
    {
      "cell_type": "code",
      "metadata": {
        "id": "6bdpVcG8rxLP"
      },
      "source": [
        "P_A = 3 / 6\n",
        "P_A_B = 2 / 3"
      ],
      "execution_count": null,
      "outputs": []
    },
    {
      "cell_type": "markdown",
      "metadata": {
        "id": "uNrzIuU0s1su"
      },
      "source": [
        "P(A|B) != P(A) значит события являются зависимыми"
      ]
    }
  ]
}