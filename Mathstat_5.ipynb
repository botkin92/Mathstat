{
  "nbformat": 4,
  "nbformat_minor": 0,
  "metadata": {
    "colab": {
      "name": "Mathstat_5.ipynb",
      "provenance": [],
      "collapsed_sections": [],
      "authorship_tag": "ABX9TyPDvrLsWX13OJ8hGcemF3ct",
      "include_colab_link": true
    },
    "kernelspec": {
      "name": "python3",
      "display_name": "Python 3"
    },
    "language_info": {
      "name": "python"
    }
  },
  "cells": [
    {
      "cell_type": "markdown",
      "metadata": {
        "id": "view-in-github",
        "colab_type": "text"
      },
      "source": [
        "<a href=\"https://colab.research.google.com/github/botkin92/Mathstat/blob/lesson_5/Mathstat_5.ipynb\" target=\"_parent\"><img src=\"https://colab.research.google.com/assets/colab-badge.svg\" alt=\"Open In Colab\"/></a>"
      ]
    },
    {
      "cell_type": "code",
      "metadata": {
        "id": "aLU7pbC_4nSi"
      },
      "source": [
        "import numpy as np\n",
        "from scipy import stats\n",
        "from matplotlib import pyplot as plt\n",
        "\n",
        "plt.style.use('seaborn-whitegrid')"
      ],
      "execution_count": 1,
      "outputs": []
    },
    {
      "cell_type": "markdown",
      "metadata": {
        "id": "qZtbjxI6BiHy"
      },
      "source": [
        "### **Задача 1**\n",
        "\n",
        "Известно, что генеральная совокупность распределена нормально с известным средним квадратическим отклонением 16. Найти доверительный интервал для оценки математического ожидания mu с надёжностью 0.95, если выборочное среднее равно 80, а объём равен 256."
      ]
    },
    {
      "cell_type": "code",
      "metadata": {
        "id": "-TWUijCOBp0_"
      },
      "source": [
        "std = 16\n",
        "mu = 80\n",
        "n = 256\n",
        "p = 0.95"
      ],
      "execution_count": 2,
      "outputs": []
    },
    {
      "cell_type": "code",
      "metadata": {
        "colab": {
          "base_uri": "https://localhost:8080/"
        },
        "id": "dwus8Q3zDPLu",
        "outputId": "7a1d2bb3-9899-4834-c004-18c06a41bcf1"
      },
      "source": [
        "p = 0.95\n",
        "alpha = 1 - p\n",
        "\n",
        "t1 = stats.t.ppf(alpha / 2, df=n - 1)\n",
        "t2 = stats.t.ppf(1 - alpha / 2, df=n - 1)\n",
        "\n",
        "t1, t2"
      ],
      "execution_count": 3,
      "outputs": [
        {
          "output_type": "execute_result",
          "data": {
            "text/plain": [
              "(-1.9693105698491928, 1.9693105698491928)"
            ]
          },
          "metadata": {},
          "execution_count": 3
        }
      ]
    },
    {
      "cell_type": "code",
      "metadata": {
        "colab": {
          "base_uri": "https://localhost:8080/"
        },
        "id": "boczvr3nDoe3",
        "outputId": "4dc6b97f-6603-4c24-ea5c-432ad35fdf83"
      },
      "source": [
        "(mu + t1 * std / np.sqrt(n), mu + t2 * std / np.sqrt(n))"
      ],
      "execution_count": 4,
      "outputs": [
        {
          "output_type": "execute_result",
          "data": {
            "text/plain": [
              "(78.0306894301508, 81.9693105698492)"
            ]
          },
          "metadata": {},
          "execution_count": 4
        }
      ]
    },
    {
      "cell_type": "markdown",
      "metadata": {
        "id": "61fBavD8EXNU"
      },
      "source": [
        "### **Задача 2**\n",
        "\n",
        "Продавец утверждает, что средний вес пачки печенья составляет 200 г. Из партии извлечена выборка из 10 пачек. Вес каждой пачки составляет:\n",
        "\n",
        "202, 203, 199, 197, 195, 201, 200, 204, 194, 190\n",
        "\n",
        "Известно, что их веса распределены нормально.\n",
        "1. Верно ли утверждение продавца, если учитывать, что уровень значимости равен 1%?\n",
        "2. Найдите P-значение для данного теста."
      ]
    },
    {
      "cell_type": "markdown",
      "metadata": {
        "id": "kCqCBA-fXzKa"
      },
      "source": [
        "Пусть Ho - математическое ожидание веса печенья 200 г.\n",
        "Тогда H1 - математическое ожидание не равно 200 г."
      ]
    },
    {
      "cell_type": "code",
      "metadata": {
        "id": "uwFWS_btEc6Z"
      },
      "source": [
        "weight = np.array([202, 203, 199, 197, 195, 201, 200, 204, 194, 190])\n",
        "n = 10\n",
        "mu = 200\n",
        "alpha = 0.01"
      ],
      "execution_count": 5,
      "outputs": []
    },
    {
      "cell_type": "markdown",
      "metadata": {
        "id": "MRq9lfdwHAlx"
      },
      "source": [
        "Т.к. неизвестна дисперсия случайной величины, необходимо использовать на t-статистику"
      ]
    },
    {
      "cell_type": "code",
      "metadata": {
        "colab": {
          "base_uri": "https://localhost:8080/"
        },
        "id": "EQLqBZrsHUrT",
        "outputId": "2ac0d630-19a9-4336-c93b-b47b69522d42"
      },
      "source": [
        "t1 = stats.t.ppf(alpha / 2, df=n - 1)\n",
        "t2 = stats.t.ppf(1 - alpha / 2, df=n - 1)\n",
        "\n",
        "t1, t2"
      ],
      "execution_count": 6,
      "outputs": [
        {
          "output_type": "execute_result",
          "data": {
            "text/plain": [
              "(-3.24983554401537, 3.2498355440153697)"
            ]
          },
          "metadata": {},
          "execution_count": 6
        }
      ]
    },
    {
      "cell_type": "markdown",
      "metadata": {
        "id": "doRmEoiub_5b"
      },
      "source": [
        "Критическая область:\n",
        "$$\\Omega_\\alpha = (-\\infty, -3.25) \\cup (3.25, \\infty)$$"
      ]
    },
    {
      "cell_type": "code",
      "metadata": {
        "colab": {
          "base_uri": "https://localhost:8080/",
          "height": 279
        },
        "id": "KDEjNVemH3Mb",
        "outputId": "822b368b-d724-44a2-a7ae-9480a822509a"
      },
      "source": [
        "ox = np.linspace(-5, 5, 500)\n",
        "oy = stats.t.pdf(ox, df=n - 1)\n",
        "\n",
        "ox_left = np.linspace(-5, t1, 100)\n",
        "oy_left = stats.t.pdf(ox_left, df=n - 1)\n",
        "\n",
        "ox_right = np.linspace(t2, 5, 100)\n",
        "oy_right = stats.t.pdf(ox_right, df=n - 1)\n",
        "\n",
        "plt.plot(ox, oy)\n",
        "plt.fill_between(ox_left, oy_left, color='C0')\n",
        "plt.fill_between(ox_right, oy_right, color='C0')"
      ],
      "execution_count": 7,
      "outputs": [
        {
          "output_type": "execute_result",
          "data": {
            "text/plain": [
              "<matplotlib.collections.PolyCollection at 0x7f17e665dfd0>"
            ]
          },
          "metadata": {},
          "execution_count": 7
        },
        {
          "output_type": "display_data",
          "data": {
            "image/png": "[encoded data removed]",
            "text/plain": [
              "<Figure size 432x288 with 1 Axes>"
            ]
          },
          "metadata": {
            "needs_background": "light"
          }
        }
      ]
    },
    {
      "cell_type": "code",
      "metadata": {
        "id": "3hDPv3zaFFwo"
      },
      "source": [
        "statistic =  (weight.mean() - mu) / (weight.std(ddof=1) / np.sqrt(n))"
      ],
      "execution_count": 8,
      "outputs": []
    },
    {
      "cell_type": "code",
      "metadata": {
        "colab": {
          "base_uri": "https://localhost:8080/"
        },
        "id": "OoOcx0nII1Fu",
        "outputId": "bc6fd1a3-03ed-4ea1-ddbf-0dcd0e9a7d8a"
      },
      "source": [
        "statistic"
      ],
      "execution_count": 9,
      "outputs": [
        {
          "output_type": "execute_result",
          "data": {
            "text/plain": [
              "-1.0651074037450896"
            ]
          },
          "metadata": {},
          "execution_count": 9
        }
      ]
    },
    {
      "cell_type": "markdown",
      "metadata": {
        "id": "5BQH80Cicb88"
      },
      "source": [
        "Значение статистики не попало в критическую область, значит гипотеза не отвергается."
      ]
    },
    {
      "cell_type": "code",
      "metadata": {
        "colab": {
          "base_uri": "https://localhost:8080/"
        },
        "id": "tL3JjDbhdDOI",
        "outputId": "c38ca162-d9fe-40d6-98a5-064211942d83"
      },
      "source": [
        "p_left = stats.t.cdf(statistic, df=n - 1)\n",
        "p_right = 1 - stats.t.cdf(statistic, df=n - 1)\n",
        "\n",
        "pvalue = 2 * min(p_left, p_right)\n",
        "\n",
        "pvalue"
      ],
      "execution_count": 10,
      "outputs": [
        {
          "output_type": "execute_result",
          "data": {
            "text/plain": [
              "0.31456660352472854"
            ]
          },
          "metadata": {},
          "execution_count": 10
        }
      ]
    },
    {
      "cell_type": "markdown",
      "metadata": {
        "id": "Wg68QCXNdaM4"
      },
      "source": [
        "### **Задача 3**\n",
        "\n",
        "Утверждается, что шарики для подшипников, изготовленные автоматическим станком, имеют средний диаметр 17 мм. Используя уровень значимости 0.025 и правостороннюю критическую область, проверить данную гипотезу при условии, что в выборке из 100 шариков средний диаметр оказался равным 17.5 мм, а дисперсия известна и равна 4 мм."
      ]
    },
    {
      "cell_type": "code",
      "metadata": {
        "id": "Gvlv_DW6ddDq"
      },
      "source": [
        "mu = 17\n",
        "alpha = 0.025\n",
        "n = 100\n",
        "mean = 17.5\n",
        "var = 4"
      ],
      "execution_count": 11,
      "outputs": []
    },
    {
      "cell_type": "markdown",
      "metadata": {
        "id": "umZUPAbCeieb"
      },
      "source": [
        "Пусть Ho - математическое ожидание диаметра подшипников 17 мм. Тогда H1 - математическое ожидание не равно 17 мм."
      ]
    },
    {
      "cell_type": "markdown",
      "metadata": {
        "id": "tNBJxs-8e66i"
      },
      "source": [
        "Т.к. известно квадратическое отклонение, можно применить Z статистику."
      ]
    },
    {
      "cell_type": "code",
      "metadata": {
        "colab": {
          "base_uri": "https://localhost:8080/"
        },
        "id": "egQJZPqmeUJ6",
        "outputId": "26a16d6f-eaa7-4d9b-9d36-7a8ec98dbba5"
      },
      "source": [
        "statistic = (mean - mu) / (var / np.sqrt(n))\n",
        "statistic"
      ],
      "execution_count": 12,
      "outputs": [
        {
          "output_type": "execute_result",
          "data": {
            "text/plain": [
              "1.25"
            ]
          },
          "metadata": {},
          "execution_count": 12
        }
      ]
    },
    {
      "cell_type": "code",
      "metadata": {
        "colab": {
          "base_uri": "https://localhost:8080/"
        },
        "id": "h-pUfflifb9G",
        "outputId": "57b78b3e-36e8-48d5-f0d7-a114996dbd72"
      },
      "source": [
        "t1 = stats.norm.ppf(alpha / 2)\n",
        "t2 = stats.norm.ppf(1 - alpha / 2)\n",
        "\n",
        "t1, t2"
      ],
      "execution_count": 13,
      "outputs": [
        {
          "output_type": "execute_result",
          "data": {
            "text/plain": [
              "(-2.241402727604945, 2.241402727604947)"
            ]
          },
          "metadata": {},
          "execution_count": 13
        }
      ]
    },
    {
      "cell_type": "markdown",
      "metadata": {
        "id": "ORKWwnakffeX"
      },
      "source": [
        "Критическая область:\n",
        "$$\\Omega_\\alpha = (-\\infty, -2.24) \\cup (2.24, \\infty)$$"
      ]
    },
    {
      "cell_type": "markdown",
      "metadata": {
        "id": "jzs4hbaghAPu"
      },
      "source": [
        "Значение не попало в критическую область. Нулевая гипотеза не отвергается."
      ]
    }
  ]
}