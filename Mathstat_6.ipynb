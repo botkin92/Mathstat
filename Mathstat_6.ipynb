{
  "nbformat": 4,
  "nbformat_minor": 0,
  "metadata": {
    "colab": {
      "name": "Mathstat_6.ipynb",
      "provenance": [],
      "collapsed_sections": [],
      "authorship_tag": "ABX9TyN8ZxkZMYJlAo5UruAVzrH4",
      "include_colab_link": true
    },
    "kernelspec": {
      "name": "python3",
      "display_name": "Python 3"
    },
    "language_info": {
      "name": "python"
    }
  },
  "cells": [
    {
      "cell_type": "markdown",
      "metadata": {
        "id": "view-in-github",
        "colab_type": "text"
      },
      "source": [
        "<a href=\"https://colab.research.google.com/github/botkin92/Mathstat/blob/lesson_6/Mathstat_6.ipynb\" target=\"_parent\"><img src=\"https://colab.research.google.com/assets/colab-badge.svg\" alt=\"Open In Colab\"/></a>"
      ]
    },
    {
      "cell_type": "code",
      "metadata": {
        "id": "06N9hvE0aGB3"
      },
      "source": [
        "import numpy as np\n",
        "import pandas as pd\n",
        "from scipy import stats"
      ],
      "execution_count": null,
      "outputs": []
    },
    {
      "cell_type": "markdown",
      "metadata": {
        "id": "sxuI2rptaHKr"
      },
      "source": [
        "### **Задача 1**\n",
        "\n",
        "Даны значения величины заработной платы заемщиков банка (salary) и значения их поведенческого кредитного скоринга (scoring):\n",
        "\n",
        "salary = [35, 45, 190, 200, 40, 70, 54, 150, 120, 110]\n",
        "scoring = [401, 574, 874, 919, 459, 739, 653, 902, 746, 832]\n",
        "\n",
        "1. Найдите ковариацию этих двух величин: сначала без использования специальных функций, а затем с помощью функции numpy.cov. Полученные значения должны быть равны.\n",
        "2. Найдите коэффициент корреляции Пирсона: с помощью ковариации и средних квадратических отклонений двух признаков, а затем с помощью специальных функций из библиотек numpy и pandas."
      ]
    },
    {
      "cell_type": "code",
      "metadata": {
        "id": "M98nvIZXaWhx"
      },
      "source": [
        "salary = np.array([35, 45, 190, 200, 40, 70, 54, 150, 120, 110])\n",
        "scoring = np.array([401, 574, 874, 919, 459, 739, 653, 902, 746, 832])"
      ],
      "execution_count": null,
      "outputs": []
    },
    {
      "cell_type": "markdown",
      "metadata": {
        "id": "iSI2Xvs7c2Xl"
      },
      "source": [
        "Ковариацию можно найти по формуле (несмещённая):\n",
        "$$\\sigma_{XY} = \\dfrac{1}{n - 1} \\displaystyle\\sum_{i = 1}^n (x_i - \\overline{X}) \\cdot (y_i - \\overline{Y})$$"
      ]
    },
    {
      "cell_type": "code",
      "metadata": {
        "colab": {
          "base_uri": "https://localhost:8080/"
        },
        "id": "ThkZlnuldDgU",
        "outputId": "6ff72fbc-6376-455f-db81-6d4af1878768"
      },
      "source": [
        "mean_sal = salary.mean()\n",
        "mean_sco = scoring.mean()\n",
        "\n",
        "cov = ((salary - mean_sal) * (scoring - mean_sco)).sum() / (salary.shape[0] - 1)\n",
        "cov"
      ],
      "execution_count": null,
      "outputs": [
        {
          "output_type": "execute_result",
          "data": {
            "text/plain": [
              "10175.37777777778"
            ]
          },
          "metadata": {},
          "execution_count": 40
        }
      ]
    },
    {
      "cell_type": "code",
      "metadata": {
        "colab": {
          "base_uri": "https://localhost:8080/"
        },
        "id": "lnj8klh3fGQK",
        "outputId": "8d5a4dfa-0dae-4680-d26b-58740d7f1b50"
      },
      "source": [
        "np.cov(salary, scoring)"
      ],
      "execution_count": null,
      "outputs": [
        {
          "output_type": "execute_result",
          "data": {
            "text/plain": [
              "array([[ 3882.93333333, 10175.37777778],\n",
              "       [10175.37777778, 33854.32222222]])"
            ]
          },
          "metadata": {},
          "execution_count": 41
        }
      ]
    },
    {
      "cell_type": "markdown",
      "metadata": {
        "id": "kf5Eqlohf0TK"
      },
      "source": [
        "Коэффициент корреляции Пирсона:\n",
        "$$r_{XY} = \\dfrac{\\sigma_{XY}}{\\sigma_X \\cdot \\sigma_Y}$$"
      ]
    },
    {
      "cell_type": "code",
      "metadata": {
        "colab": {
          "base_uri": "https://localhost:8080/"
        },
        "id": "M3CRLjVPfv83",
        "outputId": "dc38a453-4b1a-409e-b252-b175d8fdcc2a"
      },
      "source": [
        "corr = cov / (salary.std(ddof=1) * scoring.std(ddof=1))\n",
        "corr"
      ],
      "execution_count": null,
      "outputs": [
        {
          "output_type": "execute_result",
          "data": {
            "text/plain": [
              "0.8874900920739164"
            ]
          },
          "metadata": {},
          "execution_count": 42
        }
      ]
    },
    {
      "cell_type": "code",
      "metadata": {
        "colab": {
          "base_uri": "https://localhost:8080/"
        },
        "id": "i-y9RGwrg66R",
        "outputId": "2efa7f84-cf01-41d8-a155-44dbc97a667e"
      },
      "source": [
        "np.corrcoef(salary, scoring)"
      ],
      "execution_count": null,
      "outputs": [
        {
          "output_type": "execute_result",
          "data": {
            "text/plain": [
              "array([[1.        , 0.88749009],\n",
              "       [0.88749009, 1.        ]])"
            ]
          },
          "metadata": {},
          "execution_count": 43
        }
      ]
    },
    {
      "cell_type": "markdown",
      "metadata": {
        "id": "EXS8Rr3phKJ2"
      },
      "source": [
        "### **Задача 2**\n",
        "\n",
        "Измерены значения IQ выборки студентов, обучающихся в местных технических вузах:\n",
        "\n",
        "131, 125, 115, 122, 131, 115, 107, 99, 125, 111\n",
        "\n",
        "Известно, что в генеральной совокупности IQ распределен нормально. Найдите доверительный интервал для математического ожидания с надежностью 0.95."
      ]
    },
    {
      "cell_type": "code",
      "metadata": {
        "id": "Ps4Uj5INhN7y"
      },
      "source": [
        "iq = np.array([131, 125, 115, 122, 131, 115, 107, 99, 125, 111])"
      ],
      "execution_count": null,
      "outputs": []
    },
    {
      "cell_type": "markdown",
      "metadata": {
        "id": "b87UopAYkCFg"
      },
      "source": [
        "Т.к.дисперсия неизвестна нужно использовать t-статистику:\n",
        "$$t = \\dfrac{\\overline{X} - \\mu}{\\sigma_X / \\sqrt{n}},$$\n",
        "Тогда доверительный интервал:\n",
        "$$P \\left( \\overline{X} + t_{\\alpha / 2, \\: n - 1} \\cdot \\dfrac{\\sigma_X}{\\sqrt{n}} \\leq \\mu \\leq \\overline{X} + t_{1 - \\alpha / 2, \\: n - 1} \\cdot \\dfrac{\\sigma_X}{\\sqrt{n}} \\right) = p$$"
      ]
    },
    {
      "cell_type": "code",
      "metadata": {
        "colab": {
          "base_uri": "https://localhost:8080/"
        },
        "id": "7HSJA4zXhfG5",
        "outputId": "af01fd7c-70a5-4bd8-d09d-083c87aff439"
      },
      "source": [
        "n = iq.shape[0]\n",
        "\n",
        "mean = iq.mean()\n",
        "std = iq.std(ddof=1)\n",
        "\n",
        "n, mean, std"
      ],
      "execution_count": null,
      "outputs": [
        {
          "output_type": "execute_result",
          "data": {
            "text/plain": [
              "(10, 118.1, 10.54566788359614)"
            ]
          },
          "metadata": {},
          "execution_count": 45
        }
      ]
    },
    {
      "cell_type": "code",
      "metadata": {
        "colab": {
          "base_uri": "https://localhost:8080/"
        },
        "id": "dspGb-j7jc4V",
        "outputId": "386486e1-4934-426d-a69c-3335d053407c"
      },
      "source": [
        "p = 0.95\n",
        "alpha = 1 - p\n",
        "\n",
        "t1 = stats.t.ppf(alpha / 2, df=n - 1)\n",
        "t2 = stats.t.ppf(1 - alpha / 2, df=n - 1)\n",
        "\n",
        "t1, t2"
      ],
      "execution_count": null,
      "outputs": [
        {
          "output_type": "execute_result",
          "data": {
            "text/plain": [
              "(-2.2621571627409915, 2.2621571627409915)"
            ]
          },
          "metadata": {},
          "execution_count": 46
        }
      ]
    },
    {
      "cell_type": "code",
      "metadata": {
        "colab": {
          "base_uri": "https://localhost:8080/"
        },
        "id": "cN8-fU2ak_sw",
        "outputId": "44ce2705-6167-4361-fb1b-1d278ae34bb1"
      },
      "source": [
        "(mean + t1 * std / np.sqrt(n), mean + t2 * std / np.sqrt(n))"
      ],
      "execution_count": null,
      "outputs": [
        {
          "output_type": "execute_result",
          "data": {
            "text/plain": [
              "(110.55608365158724, 125.64391634841274)"
            ]
          },
          "metadata": {},
          "execution_count": 47
        }
      ]
    },
    {
      "cell_type": "markdown",
      "metadata": {
        "id": "ogMIXMUva_TB"
      },
      "source": [
        "### **Задача 3**\n",
        "\n",
        "Известно, что рост футболистов в сборной распределен нормально с известной дисперсией 25. На выборке объёма 27 выборочное среднее составило 174.2. Найдите доверительный интервал для математического ожидания с надежностью 0.95."
      ]
    },
    {
      "cell_type": "code",
      "metadata": {
        "id": "BgH6-wyzlUz7"
      },
      "source": [
        "var = 25\n",
        "n = 27\n",
        "mean = 174.2\n",
        "p = 0.95"
      ],
      "execution_count": null,
      "outputs": []
    },
    {
      "cell_type": "markdown",
      "metadata": {
        "id": "tenkNMjBl4Gu"
      },
      "source": [
        "В данном случаи дисперсия известна, можно использовать Z-статистику:\n",
        "$$Z = \\dfrac{\\overline{X} - \\mu}{\\sigma / \\sqrt{n}}$$\n",
        "Тогда доверительный интервал находится:\n",
        "$$P \\left( \\overline{X} + t_{\\alpha / 2} \\cdot \\dfrac{\\sigma}{\\sqrt{n}} \\leq \\mu \\leq \\overline{X} + t_{1 - \\alpha / 2} \\cdot \\dfrac{\\sigma}{\\sqrt{n}} \\right) = p$$"
      ]
    },
    {
      "cell_type": "code",
      "metadata": {
        "colab": {
          "base_uri": "https://localhost:8080/"
        },
        "id": "41iNqJ1KmuQE",
        "outputId": "1170251e-4f4e-4c36-c6bb-d2e547c4bee3"
      },
      "source": [
        "alpha = 1 - p\n",
        "\n",
        "t1 = stats.norm.ppf(alpha / 2)\n",
        "t2 = stats.norm.ppf(1 - alpha / 2)\n",
        "\n",
        "t1, t2"
      ],
      "execution_count": null,
      "outputs": [
        {
          "output_type": "execute_result",
          "data": {
            "text/plain": [
              "(-1.959963984540054, 1.959963984540054)"
            ]
          },
          "metadata": {},
          "execution_count": 49
        }
      ]
    },
    {
      "cell_type": "code",
      "metadata": {
        "colab": {
          "base_uri": "https://localhost:8080/"
        },
        "id": "0L4fWjAsnhOm",
        "outputId": "3ceb8ab4-fa23-4660-a648-6d5ad8e0711c"
      },
      "source": [
        "std = np.sqrt(var)\n",
        "(mean + t1 * std / np.sqrt(n), mean + t2 * std / np.sqrt(n))"
      ],
      "execution_count": null,
      "outputs": [
        {
          "output_type": "execute_result",
          "data": {
            "text/plain": [
              "(172.3140237765397, 176.08597622346028)"
            ]
          },
          "metadata": {},
          "execution_count": 50
        }
      ]
    }
  ]
}