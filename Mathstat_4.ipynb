{
  "nbformat": 4,
  "nbformat_minor": 0,
  "metadata": {
    "colab": {
      "name": "Mathstat_4.ipynb",
      "provenance": [],
      "collapsed_sections": [],
      "authorship_tag": "ABX9TyPmFznbZS3F+bA6qEo2n53p",
      "include_colab_link": true
    },
    "kernelspec": {
      "name": "python3",
      "display_name": "Python 3"
    },
    "language_info": {
      "name": "python"
    }
  },
  "cells": [
    {
      "cell_type": "markdown",
      "metadata": {
        "id": "view-in-github",
        "colab_type": "text"
      },
      "source": [
        "<a href=\"https://colab.research.google.com/github/botkin92/Mathstat/blob/lesson_4/Mathstat_4.ipynb\" target=\"_parent\"><img src=\"https://colab.research.google.com/assets/colab-badge.svg\" alt=\"Open In Colab\"/></a>"
      ]
    },
    {
      "cell_type": "code",
      "metadata": {
        "id": "SSW-6qH9zxDr"
      },
      "source": [
        "import numpy as np\n",
        "import pandas as pd\n",
        "import scipy.stats as sps"
      ],
      "execution_count": null,
      "outputs": []
    },
    {
      "cell_type": "markdown",
      "metadata": {
        "id": "4M8Ggk070SjE"
      },
      "source": [
        "### **Задача 1**\n",
        "\n",
        "О непрерывной равномерно распределенной случайной величине B известно, что ее дисперсия равна 0.2. Можно ли найти правую границу величины B и ее среднее значение зная, что левая граница равна 0.5? Если да, найдите ее."
      ]
    },
    {
      "cell_type": "code",
      "metadata": {
        "id": "gy6FqR5RiVJQ"
      },
      "source": [
        "D = 0.2\n",
        "a = 0.5"
      ],
      "execution_count": null,
      "outputs": []
    },
    {
      "cell_type": "markdown",
      "metadata": {
        "id": "M1nOTAiujcpo"
      },
      "source": [
        "Для равномерно распределенной случайной величины B дисперсия будет равна:\n",
        "D(B) = (b - a) ** 2 / 12. Тогда"
      ]
    },
    {
      "cell_type": "code",
      "metadata": {
        "id": "88ub8UZnj0rS"
      },
      "source": [
        "b = (12 * D) ** 0.5 + a "
      ],
      "execution_count": null,
      "outputs": []
    },
    {
      "cell_type": "code",
      "metadata": {
        "colab": {
          "base_uri": "https://localhost:8080/"
        },
        "id": "mHpn4AKbkwo6",
        "outputId": "20d6dae4-9eae-48be-dc94-bff9681fb85d"
      },
      "source": [
        "b"
      ],
      "execution_count": null,
      "outputs": [
        {
          "output_type": "execute_result",
          "data": {
            "text/plain": [
              "2.049193338482967"
            ]
          },
          "metadata": {},
          "execution_count": 27
        }
      ]
    },
    {
      "cell_type": "markdown",
      "metadata": {
        "id": "UNkq2wpTlk7S"
      },
      "source": [
        "Среднее значение (мат. ожидание):"
      ]
    },
    {
      "cell_type": "code",
      "metadata": {
        "id": "SpikCVZjlJU8"
      },
      "source": [
        "M = (a + b) / 2"
      ],
      "execution_count": null,
      "outputs": []
    },
    {
      "cell_type": "code",
      "metadata": {
        "colab": {
          "base_uri": "https://localhost:8080/"
        },
        "id": "h8O-SsQNlsDV",
        "outputId": "993671eb-395a-4c2c-d945-20c7c137c959"
      },
      "source": [
        "M"
      ],
      "execution_count": null,
      "outputs": [
        {
          "output_type": "execute_result",
          "data": {
            "text/plain": [
              "1.2745966692414834"
            ]
          },
          "metadata": {},
          "execution_count": 29
        }
      ]
    },
    {
      "cell_type": "markdown",
      "metadata": {
        "id": "WhJ3ycRGltYM"
      },
      "source": [
        "### **Задача 2**\n",
        "\n",
        "Рост взрослого населения города X имеет нормальное распределение, причем, средний рост равен 174 см, а среднее квадратическое отклонение равно 8 см. посчитайте, какова вероятность того, что случайным образом выбранный взрослый человек имеет рост:\n",
        "1. больше 182 см?\n",
        "2. больше 190 см?\n",
        "3. от 166 см до 190 см?\n",
        "4. от 166 см до 182 см?\n",
        "5. от 158 см до 190 см?\n",
        "6. не выше 150 см или не ниже 190 см?\n",
        "7. не выше 150 см или не ниже 198 см?\n",
        "8. ниже 166 см?\n",
        "\n",
        "Задачу можно решить двумя способами: без использования сторонних библиотек (numpy, scipy, pandas и пр.), а затем проверить себя с помощью встроенных функций"
      ]
    },
    {
      "cell_type": "markdown",
      "metadata": {
        "id": "ovAzGmDznrxr"
      },
      "source": [
        "Вероятность того, что НСВ X примет значение, принадлежащее интервалу (x1, x2), равна определенному интервалу от плотности распределения, взятому в пределах от x1 до x2."
      ]
    },
    {
      "cell_type": "code",
      "metadata": {
        "id": "yJKXE25OoTjn"
      },
      "source": [
        "M = 174\n",
        "std = 8"
      ],
      "execution_count": null,
      "outputs": []
    },
    {
      "cell_type": "code",
      "metadata": {
        "colab": {
          "base_uri": "https://localhost:8080/"
        },
        "id": "C9HFczm1l6Hr",
        "outputId": "900312be-dd62-44ff-f335-9541c8bdddc6"
      },
      "source": [
        "sps.norm(M, std).cdf(182)"
      ],
      "execution_count": null,
      "outputs": [
        {
          "output_type": "execute_result",
          "data": {
            "text/plain": [
              "0.8413447460685429"
            ]
          },
          "metadata": {},
          "execution_count": 31
        }
      ]
    },
    {
      "cell_type": "code",
      "metadata": {
        "id": "k81Hk41SovgU"
      },
      "source": [
        "# 1.\n",
        "P1 = 1 - sps.norm(M, std).cdf(182)"
      ],
      "execution_count": null,
      "outputs": []
    },
    {
      "cell_type": "code",
      "metadata": {
        "id": "5XFjdjR51t8l"
      },
      "source": [
        "# 2.\n",
        "P2 = 1 - sps.norm(M, std).cdf(190)"
      ],
      "execution_count": null,
      "outputs": []
    },
    {
      "cell_type": "code",
      "metadata": {
        "id": "BhCUEjsT12hL"
      },
      "source": [
        "# 3.\n",
        "P3 = sps.norm(M, std).cdf(190) - sps.norm(M, std).cdf(166)"
      ],
      "execution_count": null,
      "outputs": []
    },
    {
      "cell_type": "code",
      "metadata": {
        "id": "cWdua0j012kQ"
      },
      "source": [
        "# 4.\n",
        "P4 = sps.norm(M, std).cdf(182) - sps.norm(M, std).cdf(166)"
      ],
      "execution_count": null,
      "outputs": []
    },
    {
      "cell_type": "code",
      "metadata": {
        "id": "wJsDnxUI2m-b"
      },
      "source": [
        "# 5.\n",
        "P5 = sps.norm(M, std).cdf(190) - sps.norm(M, std).cdf(158)"
      ],
      "execution_count": null,
      "outputs": []
    },
    {
      "cell_type": "code",
      "metadata": {
        "id": "WxHBpz4k23L1"
      },
      "source": [
        "# 6.\n",
        "P6 = sps.norm(M, std).cdf(150) + 1 - sps.norm(M, std).cdf(190)"
      ],
      "execution_count": null,
      "outputs": []
    },
    {
      "cell_type": "code",
      "metadata": {
        "id": "xJx6Acgs3T13"
      },
      "source": [
        "# 7.\n",
        "P7 = sps.norm(M, std).cdf(150) + 1 - sps.norm(M, std).cdf(198)"
      ],
      "execution_count": null,
      "outputs": []
    },
    {
      "cell_type": "code",
      "metadata": {
        "id": "t-e0b76C3b-e"
      },
      "source": [
        "# 8.\n",
        "P8 = sps.norm(M, std).cdf(166)"
      ],
      "execution_count": null,
      "outputs": []
    },
    {
      "cell_type": "code",
      "metadata": {
        "colab": {
          "base_uri": "https://localhost:8080/"
        },
        "id": "WQSoifl3pLC3",
        "outputId": "e3c9ee4c-e1c9-490c-dfa6-60a718b1ee5e"
      },
      "source": [
        "P1, P2, P3, P4, P5, P6, P7, P8"
      ],
      "execution_count": null,
      "outputs": [
        {
          "output_type": "execute_result",
          "data": {
            "text/plain": [
              "(0.15865525393145707,\n",
              " 0.02275013194817921,\n",
              " 0.8185946141203637,\n",
              " 0.6826894921370859,\n",
              " 0.9544997361036416,\n",
              " 0.0241000299798092,\n",
              " 0.002699796063260096,\n",
              " 0.15865525393145707)"
            ]
          },
          "metadata": {},
          "execution_count": 40
        }
      ]
    },
    {
      "cell_type": "markdown",
      "metadata": {
        "id": "Q36WWxJ634RC"
      },
      "source": [
        ""
      ]
    }
  ]
}