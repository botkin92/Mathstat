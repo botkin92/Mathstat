{
  "nbformat": 4,
  "nbformat_minor": 0,
  "metadata": {
    "colab": {
      "name": "Mathstat_3.ipynb",
      "provenance": [],
      "collapsed_sections": [],
      "authorship_tag": "ABX9TyNPR0hsOH46EmShw6Ka+rPm",
      "include_colab_link": true
    },
    "kernelspec": {
      "name": "python3",
      "display_name": "Python 3"
    },
    "language_info": {
      "name": "python"
    }
  },
  "cells": [
    {
      "cell_type": "markdown",
      "metadata": {
        "id": "view-in-github",
        "colab_type": "text"
      },
      "source": [
        "<a href=\"https://colab.research.google.com/github/botkin92/Mathstat/blob/lesson_3/Mathstat_3.ipynb\" target=\"_parent\"><img src=\"https://colab.research.google.com/assets/colab-badge.svg\" alt=\"Open In Colab\"/></a>"
      ]
    },
    {
      "cell_type": "code",
      "metadata": {
        "id": "SSW-6qH9zxDr"
      },
      "source": [
        "import numpy as np\n",
        "import pandas as pd\n",
        "import matplotlib.pyplot as plt\n",
        "import seaborn as sns"
      ],
      "execution_count": null,
      "outputs": []
    },
    {
      "cell_type": "markdown",
      "metadata": {
        "id": "4M8Ggk070SjE"
      },
      "source": [
        "### **Задача 1**\n",
        "\n",
        "Даны значения зарплат из выборки выпускников:\n",
        "\n",
        "100, 80, 75, 77, 89, 33, 45, 25, 65, 17, 30, 24, 57, 55, 70, 75, 65, 84, 90, 150.\n",
        "\n",
        "Без использования статистических функций вроде mean, std, var, посчитать среднее арифметическое, среднее квадратичное отклонение, смещенную и несмещенную оценки дисперсий для данной выборки.\n",
        "\n",
        "Можно затем посчитать те же значения с использованием статистических функций, чтобы проверить себя."
      ]
    },
    {
      "cell_type": "code",
      "metadata": {
        "id": "TLa8E4Ov0R3y"
      },
      "source": [
        "salary = np.array([100, 80, 75, 77, 89, 33, 45, 25, 65, 17, 30, 24, 57, 55, 70, 75, 65, 84, 90, 150])"
      ],
      "execution_count": null,
      "outputs": []
    },
    {
      "cell_type": "code",
      "metadata": {
        "id": "rdKQSqfZ0yQG"
      },
      "source": [
        "mean = sum(salary) / len(salary)"
      ],
      "execution_count": null,
      "outputs": []
    },
    {
      "cell_type": "code",
      "metadata": {
        "id": "V5aCkDIS8nn2"
      },
      "source": [
        "list = []\n",
        "for i in salary:\n",
        "  list.append((i-mean) ** 2)\n",
        "\n",
        "std = (sum(list) / (len(salary) - 1)) ** 0.5"
      ],
      "execution_count": null,
      "outputs": []
    },
    {
      "cell_type": "code",
      "metadata": {
        "id": "gWbmnsTWBRki"
      },
      "source": [
        "var_b = sum(list) / len(salary)"
      ],
      "execution_count": null,
      "outputs": []
    },
    {
      "cell_type": "code",
      "metadata": {
        "id": "et5oCHvFElDC"
      },
      "source": [
        "var_unb = sum(list) / (len(salary) - 1)"
      ],
      "execution_count": null,
      "outputs": []
    },
    {
      "cell_type": "code",
      "metadata": {
        "colab": {
          "base_uri": "https://localhost:8080/"
        },
        "id": "7vRrfVAUKT_P",
        "outputId": "d596b2a8-da1a-49dd-c5de-0ba6d2cf1ae5"
      },
      "source": [
        "mean, std, var_b, var_unb"
      ],
      "execution_count": null,
      "outputs": [
        {
          "output_type": "execute_result",
          "data": {
            "text/plain": [
              "(65.3, 31.624607341019814, 950.11, 1000.1157894736842)"
            ]
          },
          "metadata": {},
          "execution_count": 7
        }
      ]
    },
    {
      "cell_type": "markdown",
      "metadata": {
        "id": "V8aoI4HqKfs_"
      },
      "source": [
        "### **Задача 2**\n",
        "\n",
        "Для выборки из задачи 1 найти первый и третий квартили, интерквартильное расстояние. Найти выборсы в выборке, используя для этого \"усы\" из boxplot. В этой задаче можно использовать статистические функции."
      ]
    },
    {
      "cell_type": "code",
      "metadata": {
        "id": "X7arf3kRKmft"
      },
      "source": [
        "q1 = np.quantile(salary, 0.25)\n",
        "q3 = np.quantile(salary, 0.75)\n",
        "sweep = q3 - q1"
      ],
      "execution_count": null,
      "outputs": []
    },
    {
      "cell_type": "code",
      "metadata": {
        "colab": {
          "base_uri": "https://localhost:8080/"
        },
        "id": "lwDYTI3SRft1",
        "outputId": "18fd9822-754d-4fb0-c5f5-2377777e2deb"
      },
      "source": [
        "q1, q3, sweep"
      ],
      "execution_count": null,
      "outputs": [
        {
          "output_type": "execute_result",
          "data": {
            "text/plain": [
              "(42.0, 81.0, 39.0)"
            ]
          },
          "metadata": {},
          "execution_count": 10
        }
      ]
    },
    {
      "cell_type": "code",
      "metadata": {
        "colab": {
          "base_uri": "https://localhost:8080/",
          "height": 318
        },
        "id": "gH_B03C0LzvI",
        "outputId": "d9119783-fe08-443d-d27b-cfbf13349f6d"
      },
      "source": [
        "sns.boxplot(salary)\n",
        "plt.show()"
      ],
      "execution_count": null,
      "outputs": [
        {
          "output_type": "stream",
          "name": "stderr",
          "text": [
            "/usr/local/lib/python3.7/dist-packages/seaborn/_decorators.py:43: FutureWarning: Pass the following variable as a keyword arg: x. From version 0.12, the only valid positional argument will be `data`, and passing other arguments without an explicit keyword will result in an error or misinterpretation.\n",
            "  FutureWarning\n"
          ]
        },
        {
          "output_type": "display_data",
          "data": {
            "image/png": "[encoded data removed]",
            "text/plain": [
              "<Figure size 432x288 with 1 Axes>"
            ]
          },
          "metadata": {
            "needs_background": "light"
          }
        }
      ]
    },
    {
      "cell_type": "markdown",
      "metadata": {
        "id": "3dJnN-zZRpUT"
      },
      "source": [
        "Выбросом является значение 150"
      ]
    },
    {
      "cell_type": "markdown",
      "metadata": {
        "id": "Ycpxv0JeRykG"
      },
      "source": [
        "### **Задача 3**\n",
        "В университет на факультеты A и B поступило равное количество студентов, а на факультет C студентов поступило столько же, сколько на A и B вместе. Вероятность того, что студент факультета A сдаст первую сессию, равна 0.8. Для студента факультета B эта вероятность равна 0.7, а для студента факультета C - 0.9. Студент сдал первую сессию. Какова вероятность, что он учится: a) на факультете A? б) на факультете B? в) на факультете C?\n",
        "\n",
        "Замечание: да, эта задача не на тему описательных статистик, но тема важная, и её стоит иногда освежать в памяти."
      ]
    },
    {
      "cell_type": "markdown",
      "metadata": {
        "id": "wzYOjLWhS_-a"
      },
      "source": [
        "Пусть вероятность того, что студент учится на факультете А будет P(A). А вероятность того, что студент сдал сессию - P(S). Тогда вероятность того, что студент студент который сдал сессию и учится на факультете А можно найти по формуле Байеса:"
      ]
    },
    {
      "cell_type": "markdown",
      "metadata": {
        "id": "rZxarqMLVA9Q"
      },
      "source": [
        "P(A|S) = P(S|A)*P(A)/P(S)"
      ]
    },
    {
      "cell_type": "markdown",
      "metadata": {
        "id": "5ESuWaPEXb8x"
      },
      "source": [
        "P(S) представим в виде полной вероятности:"
      ]
    },
    {
      "cell_type": "markdown",
      "metadata": {
        "id": "_DAFUTvsXnNV"
      },
      "source": [
        "P(S) = P(S|A)P(A) + P(S|B)P(B) + P(S|C)P(C)"
      ]
    },
    {
      "cell_type": "code",
      "metadata": {
        "id": "_zcZg5mwR8sg"
      },
      "source": [
        "P_SA = 0.8\n",
        "P_SB = 0.7\n",
        "P_SC = 0.9\n",
        "P_A = 0.25\n",
        "P_B = P_A\n",
        "P_C = 2*P_A"
      ],
      "execution_count": null,
      "outputs": []
    },
    {
      "cell_type": "code",
      "metadata": {
        "id": "MvmDLvlcZBQ3"
      },
      "source": [
        "P_S = P_SA * P_A + P_SB * P_B + P_SC * P_C"
      ],
      "execution_count": null,
      "outputs": []
    },
    {
      "cell_type": "code",
      "metadata": {
        "colab": {
          "base_uri": "https://localhost:8080/"
        },
        "id": "eOFApADAZRyb",
        "outputId": "da8969ef-642e-49b1-b505-6c91f7a0068c"
      },
      "source": [
        "P_S"
      ],
      "execution_count": null,
      "outputs": [
        {
          "output_type": "execute_result",
          "data": {
            "text/plain": [
              "0.825"
            ]
          },
          "metadata": {},
          "execution_count": 13
        }
      ]
    },
    {
      "cell_type": "code",
      "metadata": {
        "id": "0AhC64lZZUUG"
      },
      "source": [
        "P_AS = P_SA * P_A / P_S"
      ],
      "execution_count": null,
      "outputs": []
    },
    {
      "cell_type": "code",
      "metadata": {
        "colab": {
          "base_uri": "https://localhost:8080/"
        },
        "id": "Ra2aVNXUZrX_",
        "outputId": "951d4439-a466-4eb8-84e4-a23af532d958"
      },
      "source": [
        "P_AS"
      ],
      "execution_count": null,
      "outputs": [
        {
          "output_type": "execute_result",
          "data": {
            "text/plain": [
              "0.24242424242424246"
            ]
          },
          "metadata": {},
          "execution_count": 15
        }
      ]
    },
    {
      "cell_type": "markdown",
      "metadata": {
        "id": "NUYqIqSUZvET"
      },
      "source": [
        "Аналогичным образом найдем вероятность того, что студент студент который сдал сессию учится на факультете B и C"
      ]
    },
    {
      "cell_type": "code",
      "metadata": {
        "id": "4T9oUVFLZuO3"
      },
      "source": [
        "P_BS = P_SB * P_B / P_S"
      ],
      "execution_count": null,
      "outputs": []
    },
    {
      "cell_type": "code",
      "metadata": {
        "id": "mUf0HCxaaHZj"
      },
      "source": [
        "P_CS = P_SC * P_C / P_S"
      ],
      "execution_count": null,
      "outputs": []
    },
    {
      "cell_type": "code",
      "metadata": {
        "id": "_uk0g2hiaL-j",
        "colab": {
          "base_uri": "https://localhost:8080/"
        },
        "outputId": "a19d9407-19b7-45bb-a19d-f7aac475120a"
      },
      "source": [
        "P_AS, P_BS, P_CS"
      ],
      "execution_count": null,
      "outputs": [
        {
          "output_type": "execute_result",
          "data": {
            "text/plain": [
              "(0.24242424242424246, 0.21212121212121213, 0.5454545454545455)"
            ]
          },
          "metadata": {},
          "execution_count": 19
        }
      ]
    }
  ]
}